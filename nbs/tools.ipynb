{
 "cells": [
  {
   "cell_type": "markdown",
   "id": "cc77a3f9-ebd4-40d8-bce9-453614c63232",
   "metadata": {},
   "source": [
    "# Tools and utilities"
   ]
  },
  {
   "cell_type": "code",
   "execution_count": null,
   "id": "73130c2d-bda1-4570-983c-6c3b8c40ef4b",
   "metadata": {},
   "outputs": [],
   "source": [
    "#nbd module\n",
    "import os\n",
    "import re\n",
    "import inspect\n",
    "from urllib.parse import urlparse\n",
    "from pathlib import Path\n",
    "import io\n",
    "\n",
    "import requests\n",
    "import nbconvert\n",
    "import nbformat"
   ]
  },
  {
   "cell_type": "markdown",
   "id": "e67669aa-f65b-4513-ad4a-c81d2a0875cb",
   "metadata": {},
   "source": [
    "# NBD: development in the notebook"
   ]
  },
  {
   "cell_type": "code",
   "execution_count": null,
   "id": "d774438c-7b87-426f-8bf8-3271fc0e757b",
   "metadata": {},
   "outputs": [],
   "source": [
    "#nbd module\n",
    "class Nbd:\n",
    "    def __init__(self, pkg_name, nbs_dir='nbs'):\n",
    "        self.pkg_name = pkg_name\n",
    "        self.nbs_dir = nbs_dir\n",
    "        self.root = self._locate_root_path()\n",
    "        p = self.pkg_path = self.root/pkg_name\n",
    "        assert p.exists() and p.is_dir()\n",
    "        p = self.nbs_path = self.root/nbs_dir\n",
    "        assert p.exists() and p.is_dir()\n",
    "        self._make_symlinks()\n",
    "        \n",
    "    def _locate_root_path(self):\n",
    "        # call stack: 0=this function, 1=__init__(), 2=caller\n",
    "        caller = inspect.stack()[2].filename\n",
    "        if any(x in caller for x in ['<ipython-input', '/xpython_', '/ipykernel_', '<stdin>']):\n",
    "            # class initialized from interactive shell or notebook\n",
    "            p0 = '.'\n",
    "        else:\n",
    "            # class initialized from a Python module\n",
    "            p0 = caller\n",
    "        p = p0 = Path(p0).resolve()\n",
    "        while p != p.anchor:\n",
    "            if (p/self.pkg_name).exists() and (p/self.nbs_dir).exists():\n",
    "                return p\n",
    "            p = p.parent\n",
    "        raise Exception(f'Could not find project root above \"{p0}\".')\n",
    "        \n",
    "    def _make_symlinks(self):\n",
    "        # support for nested subpackages can be added by recursing into subdirs of nbs/ and making links in them\n",
    "        cur_dir = Path.cwd()\n",
    "        os.chdir(self.nbs_path)\n",
    "        link = Path(self.pkg_name)\n",
    "        if link.exists():\n",
    "            assert link.is_symlink(), f'Symbolic link expected at \"{link.absolute()}\".'\n",
    "        else:\n",
    "            to = f'../{self.pkg_name}'\n",
    "            link.symlink_to(to, target_is_directory=True)\n",
    "            link = link.absolute().relative_to(self.root)\n",
    "            to = Path(to).resolve().relative_to(self.root)\n",
    "            print(f'Symbolic link created \"{link}\" -> \"{to}\"')\n",
    "        os.chdir(cur_dir)\n",
    "\n",
    "    def nb2mod(self, nb_rel_path):\n",
    "        \"\"\"`nb_rel_path` is relative to project's notebook directory.\"\"\"\n",
    "        nb_rel_path = Path(nb_rel_path)\n",
    "        nb_path = self.nbs_path/nb_rel_path\n",
    "        assert nb_path.exists() and nb_path.is_file(), f'Notebook not found at \"{nb_path}\".'\n",
    "        nb = nbformat.read(nb_path, nbformat.current_nbformat)\n",
    "        nb.cells = [c for c in nb.cells if (c.cell_type == 'code') and ('module' in self.get_cell_flags(c))]\n",
    "        exporter = nbconvert.exporters.PythonExporter(exclude_input_prompt=True)\n",
    "        script, _ = exporter.from_notebook_node(nb)\n",
    "        mod_path = self.pkg_path/nb_rel_path.with_suffix('.py')\n",
    "        \n",
    "        # remove #nbd lines, convert abs to rel imports\n",
    "        script = '\\n'.join(self._relative_import(l, mod_path.relative_to(self.root))\n",
    "                           for l in script.split('\\n')\n",
    "                           if not l.startswith('#nbd'))\n",
    "        \n",
    "        mod_path.parent.mkdir(parents=True, exist_ok=True)\n",
    "        mod_path.write_text(script)\n",
    "        \n",
    "        src = nb_path.relative_to(self.root)\n",
    "        dst = mod_path.relative_to(self.root)\n",
    "        print(f'Converted notebook \"{src}\" to module \"{dst}\".')\n",
    "        \n",
    "    def _relative_import(self, line, file_rel_path):\n",
    "        \"\"\"Replace line like \"from pkg.subpkg.mod1 import obj\" in file \"pkg/subpkg/mod2.py\"\n",
    "        with \"from .mod1 import obj\"\n",
    "        \"\"\"\n",
    "        pattern = r'^(\\s*)from \\s*(\\S+)\\s* import (.*)$'\n",
    "        m = re.match(pattern, line)\n",
    "        if not m: \n",
    "            return line\n",
    "        indent, mod, obj = m.groups()\n",
    "        if not mod.startswith(self.pkg_name):\n",
    "            return line\n",
    "        # mod is like \"pkg.subpkg.mod1\", mod_path is like \"pkg/subpkg/mod2.py\"\n",
    "        # need to replace each part of common prefix with a dot\n",
    "        mod_parts = mod.split('.')\n",
    "        path_parts = list(Path(file_rel_path).parts)\n",
    "        common_len = 0\n",
    "        while ((common_len < len(mod_parts))\n",
    "               and (common_len < len(path_parts))\n",
    "               and (mod_parts[common_len] == path_parts[common_len])):\n",
    "            common_len += 1\n",
    "        dots = '.' * (len(path_parts) - common_len)\n",
    "        rel_mod = dots + '.'.join(mod_parts[common_len:])\n",
    "        return f'{indent}from {rel_mod} import {obj}'\n",
    "\n",
    "    @staticmethod\n",
    "    def get_cell_flags(cell):\n",
    "        first_line = cell.source.split('\\n', 1)[0].strip()\n",
    "        if cell.cell_type == 'code' and first_line.startswith('#nbd'):\n",
    "            return first_line.split()[1:]\n",
    "        if cell.cell_type == 'markdown' and first_line.startswith('[nbd]:'):\n",
    "            return first_line.split('\"')[1].split()\n",
    "        return []"
   ]
  },
  {
   "cell_type": "markdown",
   "id": "33d863d1-fe8e-4ff6-b7a3-523c49a3db38",
   "metadata": {},
   "source": [
    "# File download"
   ]
  },
  {
   "cell_type": "code",
   "execution_count": null,
   "id": "f858594e-7e55-442f-87c1-c18a50df648d",
   "metadata": {},
   "outputs": [],
   "source": [
    "#nbd module\n",
    "def download_file(url, dir=None, fname=None, overwrite=False, verbose=True):\n",
    "    \"\"\"Download file from given `url` and put it into `dir`.\n",
    "    Current working directory is used as default. Missing directories are created.\n",
    "    File name from `url` is used as default.\n",
    "    Return absolute pathlib.Path of the downloaded file.\"\"\"\n",
    "    \n",
    "    if dir is None:\n",
    "        dir = '.'\n",
    "    dpath = Path(dir).resolve()\n",
    "    dpath.mkdir(parents=True, exist_ok=True)\n",
    "\n",
    "    if fname is None:\n",
    "        fname = Path(urlparse(url).path).name\n",
    "    fpath = dpath / fname\n",
    "    \n",
    "    if not overwrite and fpath.exists():\n",
    "        print(f'File {fname} already exists.')\n",
    "        return fpath\n",
    "\n",
    "    with requests.get(url, stream=True) as r:\n",
    "        r.raise_for_status()\n",
    "        with open(fpath, 'wb') as f:\n",
    "            for chunk in r.iter_content(chunk_size=2**20):\n",
    "                f.write(chunk)\n",
    "    \n",
    "    if verbose: print(f'Download complete: {fname}.')\n",
    "    return fpath"
   ]
  },
  {
   "cell_type": "code",
   "execution_count": null,
   "id": "9daf47e0-b72f-42f9-bb83-0083d49515d1",
   "metadata": {},
   "outputs": [],
   "source": [
    "nbd = Nbd('popemp')\n",
    "f = download_file('https://raw.githubusercontent.com/antonbabkin/workshop-notebooks/main/LICENSE', nbd.root, 'LICENSE_COPY')\n",
    "assert open(nbd.root/'LICENSE').read() == open(f).read()\n",
    "f.unlink()"
   ]
  },
  {
   "cell_type": "markdown",
   "id": "15ea023f-560b-48f6-b2f6-0fb7cb8be875",
   "metadata": {},
   "source": [
    "# Git config"
   ]
  },
  {
   "cell_type": "code",
   "execution_count": null,
   "id": "73f7579e-6bd9-4624-b51f-49457830867d",
   "metadata": {},
   "outputs": [],
   "source": [
    "%cd ..\n",
    "!nbdime config-git --enable\n",
    "!git config filter.jupyternotebook.clean \"jupyter nbconvert --stdin --stdout --to=notebook --ClearOutputPreprocessor.enabled=True --ClearMetadataPreprocessor.enabled=True --log-level=ERROR\"\n",
    "!git config filter.jupyternotebook.smudge cat\n",
    "!git config filter.jupyternotebook.required true\n",
    "!git config diff.jupyternotebook.command \"git-nbdiffdriver diff --ignore-outputs --ignore-metadata --ignore-details\"\n",
    "%cd -"
   ]
  },
  {
   "cell_type": "markdown",
   "id": "5b4d92e6-b24d-49a2-8662-0aebc591c240",
   "metadata": {},
   "source": [
    "# Build this module"
   ]
  },
  {
   "cell_type": "code",
   "execution_count": null,
   "id": "e7cf5457-fa92-4aa1-aaa4-729b8b2279d1",
   "metadata": {},
   "outputs": [],
   "source": [
    "nbd = Nbd('popemp')\n",
    "nbd.nb2mod('tools.ipynb')"
   ]
  }
 ],
 "metadata": {
  "language_info": {
   "name": "python"
  }
 },
 "nbformat": 4,
 "nbformat_minor": 5
}
