{
 "cells": [
  {
   "cell_type": "markdown",
   "id": "ed4984f9-175b-4626-aa6e-3eed1a1ddc6c",
   "metadata": {},
   "source": [
    "# Analysis of population and employment dynamics"
   ]
  },
  {
   "cell_type": "code",
   "execution_count": null,
   "id": "fa6e376d-ee12-4620-b891-e3c20bc14882",
   "metadata": {},
   "outputs": [],
   "source": [
    "#nbd module\n",
    "import numpy as np\n",
    "import pandas as pd\n",
    "import matplotlib.pyplot as plt\n",
    "\n",
    "from popemp.tools import Nbd\n",
    "from popemp import data\n",
    "\n",
    "nbd = Nbd('popemp')"
   ]
  },
  {
   "cell_type": "code",
   "execution_count": null,
   "id": "f7033903-8723-454c-bb23-5dfa048157fa",
   "metadata": {},
   "outputs": [],
   "source": [
    "#nbd module\n",
    "data_yr = data.pop().merge(data.emp(), 'left')\n",
    "\n",
    "def data_ag(y0, y1):\n",
    "    d = data_yr.query('year == @y0 or year == @y1').set_index(['st', 'cty', 'year'])[['pop', 'emp']].unstack('year')\n",
    "    d = d[(d.notna() & (d > 0)).all(1)]\n",
    "    d = d.stack(0)\n",
    "    d = np.power(d[y1] / d[y0], 1/(y1-y0+1)).unstack().add_suffix('_agr_abs')\n",
    "    d = (d - 1) * 100\n",
    "    d = d.reset_index()\n",
    "\n",
    "    d1 = d.query('cty == \"000\"').rename(columns={'pop_agr_abs': 'ref_pop_agr', 'emp_agr_abs': 'ref_emp_agr'})\n",
    "    d = d.merge(d1.drop(columns='cty'), 'left')\n",
    "    d.loc[d['cty'] == '000', ['ref_pop_agr', 'ref_emp_agr']] = d.loc[d['st'] == '00', ['ref_pop_agr', 'ref_emp_agr']].values\n",
    "    d['pop_agr_rel'] = d['pop_agr_abs'] - d['ref_pop_agr']\n",
    "    d['emp_agr_rel'] = d['emp_agr_abs'] - d['ref_emp_agr']\n",
    "    return d\n",
    "\n",
    "def color_from_gr(df, abs_rel):\n",
    "    e = df['emp_agr_' + abs_rel]\n",
    "    p = df['pop_agr_' + abs_rel]\n",
    "    x = pd.Series(index=df.index, dtype='str')\n",
    "    x[(p >= 0) & (e >= 0)] = 'red'\n",
    "    x[(p >= 0) & (e <  0)] = 'green'\n",
    "    x[(p <  0) & (e >= 0)] = 'orange'\n",
    "    x[(p <  0) & (e <  0)] = 'blue'\n",
    "    return x"
   ]
  },
  {
   "cell_type": "code",
   "execution_count": null,
   "id": "316174f7-928c-4423-b3ec-44cdb845d888",
   "metadata": {},
   "outputs": [],
   "source": [
    "d = data_ag(2005, 2012).query('cty == \"000\"').copy()\n",
    "fig, axes = plt.subplots(1, 2, figsize=(16, 8))\n",
    "d['abs_cat'] = color_from_gr(d, 'abs')\n",
    "d['rel_cat'] = color_from_gr(d, 'rel')\n",
    "\n",
    "ax = axes[0]\n",
    "d.plot.scatter('pop_agr_abs', 'emp_agr_abs', ax=ax, c='abs_cat')\n",
    "xlim = abs(max(ax.get_xlim(), key=abs))\n",
    "ax.set_xlim(-xlim, xlim)\n",
    "ylim = abs(max(ax.get_ylim(), key=abs))\n",
    "ax.set_ylim(-ylim, ylim)\n",
    "ax.axvline(0, ls='-')\n",
    "ax.axhline(0, ls='-')\n",
    "ax.axvline(d['ref_pop_agr'].iloc[0], ls=':')\n",
    "ax.axhline(d['ref_emp_agr'].iloc[0], ls=':')\n",
    "\n",
    "ax = axes[1]\n",
    "d.plot.scatter('pop_agr_rel', 'emp_agr_rel', ax=ax, c='rel_cat')\n",
    "xlim = abs(max(ax.get_xlim(), key=abs))\n",
    "ax.set_xlim(-xlim, xlim)\n",
    "ylim = abs(max(ax.get_ylim(), key=abs))\n",
    "ax.set_ylim(-ylim, ylim)\n",
    "ax.axvline(0, ls='-')\n",
    "ax.axhline(0, ls='-')"
   ]
  },
  {
   "cell_type": "markdown",
   "id": "2e2eba79-0cfd-4be6-9f73-ff6969080e9d",
   "metadata": {},
   "source": [
    "# Build this module"
   ]
  },
  {
   "cell_type": "code",
   "execution_count": null,
   "id": "5b12f758-d201-4690-a26e-d4960c5691b7",
   "metadata": {},
   "outputs": [],
   "source": [
    "nbd.nb2mod('analysis.ipynb')"
   ]
  }
 ],
 "metadata": {
  "language_info": {
   "name": "python"
  }
 },
 "nbformat": 4,
 "nbformat_minor": 5
}
