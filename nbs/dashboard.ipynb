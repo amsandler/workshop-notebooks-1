{
 "cells": [
  {
   "cell_type": "markdown",
   "id": "aefbc575-3db9-4ffe-b97b-b3f4d685d9be",
   "metadata": {},
   "source": [
    "# Population and employment dynamics in states and counties of the USA"
   ]
  },
  {
   "cell_type": "code",
   "execution_count": null,
   "id": "76e2f368-d559-451e-9ff1-1349fc327ad4",
   "metadata": {},
   "outputs": [],
   "source": [
    "import ipywidgets as widgets\n",
    "import ipyleaflet as leaflet\n",
    "import matplotlib.pyplot as plt\n",
    "import json\n",
    "\n",
    "from popemp import data\n",
    "from popemp.analysis import data_yr, data_ag, color_from_gr\n",
    "\n",
    "geo = data.geo()"
   ]
  },
  {
   "cell_type": "markdown",
   "id": "145e9fec-094a-4994-a584-f5b761ef0cb7",
   "metadata": {
    "tags": []
   },
   "source": [
    "GeoData is a natural choise for area layer, but it does not support `style_callback` ([GH PR](https://github.com/jupyter-widgets/ipyleaflet/pull/786)). Using GeoJSON instead."
   ]
  },
  {
   "cell_type": "code",
   "execution_count": null,
   "id": "835ede2d-9d73-4682-b77e-fa7d6a276156",
   "metadata": {},
   "outputs": [],
   "source": [
    "def data_map(st, y0, y1, abs_rel):\n",
    "    if st == '00':\n",
    "        df = geo.query('cty == \"000\"')\n",
    "    else:\n",
    "        df = geo.query('st == @st')\n",
    "\n",
    "    df = df.merge(data_ag(y0, y1))\n",
    "    df['color'] = color_from_gr(df, abs_rel)\n",
    "    df = df[['st', 'cty', 'name', 'geometry', 'color']]\n",
    "    return df\n",
    "\n",
    "def click_geo(**kw):\n",
    "    p = kw['properties']\n",
    "    y0, y1 = year_selector.value\n",
    "    upd_graph(p['st'], p['cty'], y0, y1)\n",
    "\n",
    "def area_style(feature):\n",
    "    style = dict(fillColor=feature['properties']['color'])\n",
    "    return style\n",
    "        \n",
    "def refresh(_):\n",
    "    s = state_selector.value\n",
    "    y0, y1 = year_selector.value\n",
    "    if len(map_.layers) == 2:\n",
    "        map_.remove_layer(map_.layers[1])\n",
    "    geo_json = json.loads(data_map(s, y0, y1, abs_rel_selector.value).to_json())\n",
    "    l = leaflet.GeoJSON(data=geo_json,\n",
    "                        style={'stroke': False, 'fillOpacity': 0.5},\n",
    "                        hover_style={'stroke': True},\n",
    "                        style_callback=area_style)\n",
    "    l.on_click(click_geo)\n",
    "    map_.add_layer(l)\n",
    "    upd_graph(s, '000', y0, y1)\n",
    "\n",
    "def upd_graph(st, cty, y0, y1):\n",
    "    with graph:\n",
    "        graph.clear_output(True)\n",
    "        fig, ax = plt.subplots(3)\n",
    "        plt.close()\n",
    "        data_yr.query('st == @st and cty == @cty and year >= @y0 and year <= @y1').set_index('year')['pop'].plot(ax=ax[0])\n",
    "        data_yr.query('st == @st and cty == @cty and year >= @y0 and year <= @y1').set_index('year')['emp'].plot(ax=ax[1])\n",
    "        data_yr.query('st == @st and cty == @cty and year >= @y0 and year <= @y1').set_index('year')[['pop_gr', 'emp_gr']].plot(ax=ax[2])\n",
    "        fig.suptitle(st)\n",
    "        display(fig)"
   ]
  },
  {
   "cell_type": "code",
   "execution_count": null,
   "id": "71db1249-07ff-4f57-af9c-9b61af7acf62",
   "metadata": {},
   "outputs": [],
   "source": [
    "year_selector = widgets.IntRangeSlider(value=(2007, 2012), min=1991, max=2019)\n",
    "abs_rel_selector = widgets.RadioButtons(options=[('Absolute', 'abs'), ('Relative', 'rel')])\n",
    "state_selector = widgets.Dropdown(options=data_yr['st'].unique())\n",
    "refresh_button = widgets.Button(description='Refresh')\n",
    "refresh_button.on_click(refresh)\n",
    "controls = widgets.VBox([year_selector, abs_rel_selector, widgets.Label('Select US or state'), state_selector, refresh_button])\n",
    "map_ = leaflet.Map(center=(40, -95), zoom=4)\n",
    "graph = widgets.Output()\n",
    "\n",
    "refresh(None)\n",
    "upd_graph('00', '000', *year_selector.value)\n",
    "\n",
    "widgets.AppLayout(left_sidebar=controls,\n",
    "                center=map_, \n",
    "                right_sidebar=graph)"
   ]
  }
 ],
 "metadata": {
  "language_info": {
   "name": "python"
  }
 },
 "nbformat": 4,
 "nbformat_minor": 5
}
