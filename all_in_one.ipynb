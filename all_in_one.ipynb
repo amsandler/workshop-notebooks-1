{
 "cells": [
  {
   "cell_type": "code",
   "execution_count": null,
   "id": "b0888693-3b8a-4f9a-9365-b601279e7fdf",
   "metadata": {
    "tags": []
   },
   "outputs": [],
   "source": [
    "from urllib.parse import urlparse, unquote\n",
    "from pathlib import Path\n",
    "import io\n",
    "\n",
    "import requests\n",
    "import numpy as np\n",
    "import pandas as pd\n",
    "import geopandas"
   ]
  },
  {
   "cell_type": "markdown",
   "id": "f1ddf478-a328-40c7-b7a9-16a1f4c801b1",
   "metadata": {},
   "source": [
    "# Tools"
   ]
  },
  {
   "cell_type": "code",
   "execution_count": null,
   "id": "52d7aab8-4aff-4757-adac-cba195a01d61",
   "metadata": {
    "tags": []
   },
   "outputs": [],
   "source": [
    "def download_file(url, dir=None, fname=None, overwrite=False, verbose=True):\n",
    "    \"\"\"Download file from given `url` and put it into `dir`.\n",
    "    Current working directory is used as default. Missing directories are created.\n",
    "    File name from `url` is used as default.\n",
    "    Return absolute pathlib.Path of the downloaded file.\"\"\"\n",
    "    \n",
    "    if dir is None:\n",
    "        dir = '.'\n",
    "    dpath = Path(dir).resolve()\n",
    "    dpath.mkdir(parents=True, exist_ok=True)\n",
    "\n",
    "    if fname is None:\n",
    "        fname = Path(urlparse(url).path).name\n",
    "    fpath = dpath / fname\n",
    "    \n",
    "    if not overwrite and fpath.exists():\n",
    "        print(f'File {fname} already exists.')\n",
    "        return fpath\n",
    "\n",
    "    with requests.get(url, stream=True) as r:\n",
    "        r.raise_for_status()\n",
    "        with open(fpath, 'wb') as f:\n",
    "            for chunk in r.iter_content(chunk_size=2**20):\n",
    "                f.write(chunk)\n",
    "    \n",
    "    if verbose: print(f'Download complete: {fname}.')\n",
    "    return fpath"
   ]
  },
  {
   "cell_type": "markdown",
   "id": "9f42b622-9130-4a33-aed4-fd96692779c9",
   "metadata": {},
   "source": [
    "# Geography\n",
    "\n",
    "[geocodes](https://www.census.gov/geographies/reference-files/2019/demo/popest/2019-fips.html)"
   ]
  },
  {
   "cell_type": "code",
   "execution_count": null,
   "id": "d2db123d-7953-4692-88f4-793066110db4",
   "metadata": {
    "tags": []
   },
   "outputs": [],
   "source": [
    "f = download_file('https://www2.census.gov/geo/tiger/GENZ2018/shp/cb_2018_us_state_20m.zip', 'data')\n",
    "df = geopandas.read_file(f)\n",
    "df = df.rename(columns={'STATEFP': 'st', 'NAME': 'name'})\n",
    "df = df[['st', 'name', 'geometry']]\n",
    "df['cty'] = '000'\n",
    "st = df\n",
    "\n",
    "f = download_file('https://www2.census.gov/geo/tiger/GENZ2018/shp/cb_2018_us_county_20m.zip', 'data')\n",
    "df = geopandas.read_file(f)\n",
    "df = df.rename(columns={'STATEFP': 'st', 'COUNTYFP': 'cty', 'NAME': 'name_cty'})\n",
    "df = df[['st', 'cty', 'name_cty', 'geometry']]\n",
    "df = df.merge(st[['st', 'name']], 'left')\n",
    "df['name'] = df['name_cty'] + ' county, ' + df['name']\n",
    "del df['name_cty']\n",
    "\n",
    "df = pd.concat([df, st]).sort_values(['st', 'cty'], ignore_index=True)\n",
    "df = df[['st', 'cty', 'name', 'geometry']]\n",
    "geo = df"
   ]
  },
  {
   "cell_type": "markdown",
   "id": "e9fb9db9-59d4-425f-bfd1-fb9e7112a1b7",
   "metadata": {
    "tags": []
   },
   "source": [
    "# Population\n",
    "\n",
    "[home](https://www.census.gov/programs-surveys/popest/data/data-sets.html)\n",
    "[2000-2010](https://www.census.gov/data/datasets/time-series/demo/popest/intercensal-2000-2010-counties.html)\n",
    "[2010-2019](https://www.census.gov/data/datasets/time-series/demo/popest/2010s-counties-total.html)\n",
    "\n",
    "For years before 2000 I could not find data in convenient format.\n",
    "\n",
    "[Character encoding](https://www.census.gov/programs-surveys/geography/technical-documentation/user-note/special-characters.html): newer files use \"UTF-8\", older use \"ISO-8859-1\".\n",
    "\n",
    "Also check this: Population, Population Change, and Estimated Components of Population Change: April 1, 2010 to July 1, 2019 (CO-EST2019-alldata)"
   ]
  },
  {
   "cell_type": "code",
   "execution_count": null,
   "id": "b4f5b0fa-ca8b-48e6-8557-d13dd2c575e9",
   "metadata": {
    "tags": []
   },
   "outputs": [],
   "source": [
    "f = download_file('https://www2.census.gov/programs-surveys/popest/tables/1990-2000/estimates-and-change-1990-2000/2000c8_00.txt', 'data')\n",
    "with open(f, encoding='ISO-8859-1') as file:\n",
    "    data = io.StringIO()\n",
    "    in_table = False\n",
    "    for line in file:\n",
    "        if in_table:\n",
    "            if line[0] == '1':\n",
    "                data.write(line)\n",
    "            else:\n",
    "                break\n",
    "        else:\n",
    "            if line[0] == '1':\n",
    "                in_table = True\n",
    "                data.write(line)\n",
    "\n",
    "data.seek(0)\n",
    "df = pd.read_fwf(data, dtype='str', header=None, columns=cols)\n",
    "# skip first row (US total), keep fips and popest cols\n",
    "df = df.iloc[1:, 1:13]\n",
    "df.columns = ['fips'] + [f'pop{y}' for y in range(2000, 1989, -1)]\n",
    "df['fips'] = df['fips'].str.pad(5, 'right', '0')\n",
    "df['st'] = df['fips'].str[:2]\n",
    "df['cty'] = df['fips'].str[2:]\n",
    "df = df.drop(columns=['pop2000', 'fips'])\n",
    "df = pd.wide_to_long(df, 'pop', ['st', 'cty'], 'year')\n",
    "df = df.reset_index()\n",
    "df['pop'] = pd.to_numeric(df['pop'].str.replace(',', '', regex=False)).astype('int')\n",
    "\n",
    "d1 = df"
   ]
  },
  {
   "cell_type": "code",
   "execution_count": null,
   "id": "f46f724a-96af-4b34-8281-eb4f57b3473d",
   "metadata": {
    "tags": []
   },
   "outputs": [],
   "source": [
    "f = download_file('https://www2.census.gov/programs-surveys/popest/datasets/2000-2010/intercensal/county/co-est00int-tot.csv', 'data')\n",
    "cols = ['STATE', 'COUNTY'] + [f'POPESTIMATE{y}' for y in range(2000, 2010)]\n",
    "df = pd.read_csv(f, encoding='ISO-8859-1', dtype='str', usecols=cols)\n",
    "df = pd.wide_to_long(df, 'POPESTIMATE', ['STATE', 'COUNTY'], 'year')\n",
    "df = df.reset_index().rename(columns={'STATE': 'st', 'COUNTY': 'cty', 'POPESTIMATE': 'pop'})\n",
    "df['st'] = df['st'].str.pad(2, fillchar='0')\n",
    "df['cty'] = df['cty'].str.pad(3, fillchar='0')\n",
    "df['pop'] = df['pop'].astype('int')\n",
    "d2 = df"
   ]
  },
  {
   "cell_type": "code",
   "execution_count": null,
   "id": "e7ebf7d2-034e-4c63-af7e-7d60d61df231",
   "metadata": {
    "tags": []
   },
   "outputs": [],
   "source": [
    "f = download_file('https://www2.census.gov/programs-surveys/popest/datasets/2010-2019/counties/totals/co-est2019-alldata.csv', 'data')\n",
    "cols = ['STATE', 'COUNTY'] + [f'POPESTIMATE{y}' for y in range(2010, 2020)]\n",
    "df = pd.read_csv(f, encoding='ISO-8859-1', dtype='str', usecols=cols)\n",
    "df = pd.wide_to_long(df, 'POPESTIMATE', ['STATE', 'COUNTY'], 'year')\n",
    "df = df.reset_index().rename(columns={'STATE': 'st', 'COUNTY': 'cty', 'POPESTIMATE': 'pop'})\n",
    "df['pop'] = df['pop'].astype('int')\n",
    "d3 = df"
   ]
  },
  {
   "cell_type": "code",
   "execution_count": null,
   "id": "76d1ea9c-cefc-47ed-8b04-317a0feadbde",
   "metadata": {
    "tags": []
   },
   "outputs": [],
   "source": [
    "df = pd.concat([d1, d2, d3], ignore_index=True)\n",
    "\n",
    "d = df.query('cty == \"000\"').groupby('year')['pop'].sum()\n",
    "d = d.to_frame('pop').reset_index()\n",
    "d[['st', 'cty']] = ['00', '000']\n",
    "df = pd.concat([df, d], ignore_index=True)\n",
    "\n",
    "df = df.sort_values('year')\n",
    "df['pop_'] = df.groupby(['st', 'cty'])['pop'].shift()\n",
    "df['pop_gr'] = df.eval('(pop / pop_ - 1) * 100')\n",
    "del df['pop_']\n",
    "\n",
    "df = df.sort_values(['st', 'cty', 'year'])\n",
    "df = df[['st', 'cty', 'year', 'pop', 'pop_gr']]\n",
    "pop = df"
   ]
  },
  {
   "cell_type": "markdown",
   "id": "985e342d-2420-498c-83df-afc37a6d0799",
   "metadata": {},
   "source": [
    "Something strange happens in 2000."
   ]
  },
  {
   "cell_type": "code",
   "execution_count": null,
   "id": "3f217996-5363-4f77-bff5-0356ffbe49a4",
   "metadata": {
    "tags": []
   },
   "outputs": [],
   "source": [
    "pop.query('st == \"00\" and cty == \"000\"').set_index('year')['pop'].plot()"
   ]
  },
  {
   "cell_type": "code",
   "execution_count": null,
   "id": "604141fe-33c1-4949-9015-ee7cb2aa1485",
   "metadata": {
    "tags": []
   },
   "outputs": [],
   "source": [
    "pop.query('st == \"01\" and cty == \"000\"').set_index('year')['pop'].plot()"
   ]
  },
  {
   "cell_type": "markdown",
   "id": "40229771-4bab-4056-a1dc-580455cc4288",
   "metadata": {
    "tags": []
   },
   "source": [
    "# Employment\n",
    "\n",
    "[datasets](https://www.census.gov/data/datasets/time-series/econ/bds/bds-datasets.html)"
   ]
  },
  {
   "cell_type": "code",
   "execution_count": null,
   "id": "e092cd64-63cc-4ce1-bc49-5f7c06747b8f",
   "metadata": {
    "tags": []
   },
   "outputs": [],
   "source": [
    "# economy-wide\n",
    "f = download_file('https://www2.census.gov/programs-surveys/bds/tables/time-series/bds2019.csv', 'data')\n",
    "df = pd.read_csv(f, usecols=['year', 'emp', 'net_job_creation_rate'], dtype='str')\n",
    "df[['st', 'cty']] = ['00', '000']\n",
    "d1 = df\n",
    "\n",
    "# by state\n",
    "f = download_file('https://www2.census.gov/programs-surveys/bds/tables/time-series/bds2019_st.csv', 'data')\n",
    "df = pd.read_csv(f, usecols=['year', 'st', 'emp', 'net_job_creation_rate'], dtype='str')\n",
    "df['cty'] = '000'\n",
    "d2 = df\n",
    "\n",
    "# by county\n",
    "f = download_file('https://www2.census.gov/programs-surveys/bds/tables/time-series/bds2019_cty.csv', 'data')\n",
    "df = pd.read_csv(f, usecols=['year', 'st', 'cty', 'emp', 'net_job_creation_rate'], dtype='str')\n",
    "\n",
    "df = pd.concat([d1, d2, df], ignore_index=True)\n",
    "df = df.rename(columns={'net_job_creation_rate': 'emp_gr'})\n",
    "df['year'] = df['year'].astype('int16')\n",
    "df['emp'] = pd.to_numeric(df['emp'], 'coerce').astype('Int32')\n",
    "df['emp_gr'] = pd.to_numeric(df['emp_gr'], 'coerce').astype('Float32')\n",
    "df = df[['st', 'cty', 'year', 'emp', 'emp_gr']]\n",
    "emp = df"
   ]
  },
  {
   "cell_type": "markdown",
   "id": "350028b4-9680-44f0-96a5-0e0f855e2f7b",
   "metadata": {
    "tags": []
   },
   "source": [
    "## API\n",
    "\n",
    "[BDS API](https://www.census.gov/data/developers/data-sets/business-dynamics.html)"
   ]
  },
  {
   "cell_type": "code",
   "execution_count": null,
   "id": "84630c3f-3bea-4e49-b023-79e127ff8799",
   "metadata": {
    "tags": []
   },
   "outputs": [],
   "source": [
    "key = open('census_api_key.txt').read()\n",
    "url = 'https://api.census.gov/data/timeseries/bds'\n",
    "st = '55'\n",
    "r = requests.get(f'{url}?get=NAME,ESTAB,EMP,YEAR&for=county:*&in=state:{st}&time=from+2015+to+2019&NAICS=00&key={key}')\n",
    "d = r.json()"
   ]
  },
  {
   "cell_type": "code",
   "execution_count": null,
   "id": "39376aa1-ea3e-4bab-86a3-2b05ad44052a",
   "metadata": {
    "tags": []
   },
   "outputs": [],
   "source": [
    "df = pd.DataFrame(d[1:], columns=d[0])\n",
    "df.query('county == \"025\"')"
   ]
  },
  {
   "cell_type": "markdown",
   "id": "07f0f315-17dc-4151-a8bd-0221ea32450f",
   "metadata": {
    "tags": []
   },
   "source": [
    "# pop vs emp"
   ]
  },
  {
   "cell_type": "code",
   "execution_count": null,
   "id": "27e118e3-2594-4468-82f4-323217394250",
   "metadata": {
    "tags": []
   },
   "outputs": [],
   "source": [
    "df = pop.merge(emp, 'left')\n",
    "data_yr = df"
   ]
  },
  {
   "cell_type": "code",
   "execution_count": null,
   "id": "110383ec-97fc-4d37-90a1-07b631b58016",
   "metadata": {
    "tags": []
   },
   "outputs": [],
   "source": [
    "def data_ag(y0, y1):\n",
    "    d = data_yr.query('year == @y0 or year == @y1').set_index(['st', 'cty', 'year'])[['pop', 'emp']].unstack('year')\n",
    "    d = d[(d.notna() & (d > 0)).all(1)]\n",
    "    d = d.stack(0)\n",
    "    d = np.power(d[y1] / d[y0], 1/(y1-y0+1)).unstack().add_suffix('_agr_abs')\n",
    "    d = (d - 1) * 100\n",
    "    d = d.reset_index()\n",
    "\n",
    "    d1 = d.query('cty == \"000\"').rename(columns={'pop_agr_abs': 'ref_pop_agr', 'emp_agr_abs': 'ref_emp_agr'})\n",
    "    d = d.merge(d1.drop(columns='cty'), 'left')\n",
    "    d.loc[d['cty'] == '000', ['ref_pop_agr', 'ref_emp_agr']] = d.loc[d['st'] == '00', ['ref_pop_agr', 'ref_emp_agr']].values\n",
    "    d['pop_agr_rel'] = d['pop_agr_abs'] - d['ref_pop_agr']\n",
    "    d['emp_agr_rel'] = d['emp_agr_abs'] - d['ref_emp_agr']\n",
    "    return d"
   ]
  },
  {
   "cell_type": "code",
   "execution_count": null,
   "id": "d9faa5ca-5b67-468e-8730-e69aac66809d",
   "metadata": {
    "tags": []
   },
   "outputs": [],
   "source": [
    "def color_from_gr(df, abs_rel):\n",
    "    e = df['emp_agr_' + abs_rel]\n",
    "    p = df['pop_agr_' + abs_rel]\n",
    "    x = pd.Series(index=df.index, dtype='str')\n",
    "    x[(p >= 0) & (e >= 0)] = 'red'\n",
    "    x[(p >= 0) & (e <  0)] = 'green'\n",
    "    x[(p <  0) & (e >= 0)] = 'orange'\n",
    "    x[(p <  0) & (e <  0)] = 'blue'\n",
    "    return x"
   ]
  },
  {
   "cell_type": "code",
   "execution_count": null,
   "id": "8456ddb2-d74e-4cb7-83eb-b21a466a8613",
   "metadata": {
    "tags": []
   },
   "outputs": [],
   "source": [
    "d = data_ag(2005, 2012).query('cty == \"000\"').copy()\n",
    "fig, axes = plt.subplots(1, 2, figsize=(16, 8))\n",
    "d['abs_cat'] = color_from_gr(d, 'abs')\n",
    "d['rel_cat'] = color_from_gr(d, 'rel')\n",
    "\n",
    "ax = axes[0]\n",
    "d.plot.scatter('pop_agr_abs', 'emp_agr_abs', ax=ax, c='abs_cat')\n",
    "xlim = abs(max(ax.get_xlim(), key=abs))\n",
    "ax.set_xlim(-xlim, xlim)\n",
    "ylim = abs(max(ax.get_ylim(), key=abs))\n",
    "ax.set_ylim(-ylim, ylim)\n",
    "ax.axvline(0, ls='-')\n",
    "ax.axhline(0, ls='-')\n",
    "ax.axvline(d['ref_pop_agr'].iloc[0], ls=':')\n",
    "ax.axhline(d['ref_emp_agr'].iloc[0], ls=':')\n",
    "\n",
    "ax = axes[1]\n",
    "d.plot.scatter('pop_agr_rel', 'emp_agr_rel', ax=ax, c='rel_cat')\n",
    "xlim = abs(max(ax.get_xlim(), key=abs))\n",
    "ax.set_xlim(-xlim, xlim)\n",
    "ylim = abs(max(ax.get_ylim(), key=abs))\n",
    "ax.set_ylim(-ylim, ylim)\n",
    "ax.axvline(0, ls='-')\n",
    "ax.axhline(0, ls='-')"
   ]
  },
  {
   "cell_type": "markdown",
   "id": "51fd7a04-1869-401a-95a7-9f44cfbecd48",
   "metadata": {
    "tags": []
   },
   "source": [
    "# Dashboard\n",
    "\n",
    "GeoData is a natural choise for area layer, but it does not support `style_callback` ([GH PR](https://github.com/jupyter-widgets/ipyleaflet/pull/786)). Using GeoJSON instead."
   ]
  },
  {
   "cell_type": "code",
   "execution_count": null,
   "id": "09692389-b7a6-43ad-b1d4-29e911284a22",
   "metadata": {
    "tags": []
   },
   "outputs": [],
   "source": [
    "import ipywidgets as widgets\n",
    "import ipyleaflet as leaflet\n",
    "import matplotlib.pyplot as plt\n",
    "import json"
   ]
  },
  {
   "cell_type": "code",
   "execution_count": null,
   "id": "3c1ee4f6-3234-4b76-8883-cd87f5eb293c",
   "metadata": {
    "tags": []
   },
   "outputs": [],
   "source": [
    "def data_map(st, y0, y1, abs_rel):\n",
    "    if st == '00':\n",
    "        df = geo.query('cty == \"000\"')\n",
    "    else:\n",
    "        df = geo.query('st == @st')\n",
    "\n",
    "    df = df.merge(data_ag(y0, y1))\n",
    "    df['color'] = color_from_gr(df, abs_rel)\n",
    "    df = df[['st', 'cty', 'name', 'geometry', 'color']]\n",
    "    return df\n",
    "\n",
    "def click_geo(**kw):\n",
    "    p = kw['properties']\n",
    "    y0, y1 = year_selector.value\n",
    "    upd_graph(p['st'], p['cty'], y0, y1)\n",
    "\n",
    "def area_style(feature):\n",
    "    style = dict(fillColor=feature['properties']['color'])\n",
    "    return style\n",
    "        \n",
    "def refresh(_):\n",
    "    s = state_selector.value\n",
    "    y0, y1 = year_selector.value\n",
    "    if len(map_.layers) == 2:\n",
    "        map_.remove_layer(map_.layers[1])\n",
    "    geo_json = json.loads(data_map(s, y0, y1, abs_rel_selector.value).to_json())\n",
    "    l = leaflet.GeoJSON(data=geo_json,\n",
    "                        style={'stroke': False, 'fillOpacity': 0.5},\n",
    "                        hover_style={'stroke': True},\n",
    "                        style_callback=area_style)\n",
    "    l.on_click(click_geo)\n",
    "    map_.add_layer(l)\n",
    "    upd_graph(s, '000', y0, y1)\n",
    "\n",
    "def upd_graph(st, cty, y0, y1):\n",
    "    with graph:\n",
    "        graph.clear_output(True)\n",
    "        fig, ax = plt.subplots(3)\n",
    "        plt.close()\n",
    "        data_yr.query('st == @st and cty == @cty and year >= @y0 and year <= @y1').set_index('year')['pop'].plot(ax=ax[0])\n",
    "        data_yr.query('st == @st and cty == @cty and year >= @y0 and year <= @y1').set_index('year')['emp'].plot(ax=ax[1])\n",
    "        data_yr.query('st == @st and cty == @cty and year >= @y0 and year <= @y1').set_index('year')[['pop_gr', 'emp_gr']].plot(ax=ax[2])\n",
    "        fig.suptitle(st)\n",
    "        display(fig)"
   ]
  },
  {
   "cell_type": "code",
   "execution_count": null,
   "id": "579e35b1-96d8-450f-86a0-777e50106f97",
   "metadata": {
    "tags": []
   },
   "outputs": [],
   "source": [
    "year_selector = widgets.IntRangeSlider(value=(2007, 2012), min=1991, max=2019)\n",
    "abs_rel_selector = widgets.RadioButtons(options=[('Absolute', 'abs'), ('Relative', 'rel')])\n",
    "state_selector = widgets.Dropdown(options=data_yr['st'].unique())\n",
    "refresh_button = widgets.Button(description='Refresh')\n",
    "refresh_button.on_click(refresh)\n",
    "controls = widgets.VBox([year_selector, abs_rel_selector, widgets.Label('Select US or state'), state_selector, refresh_button])\n",
    "\n",
    "map_ = leaflet.Map(center=(40, -95), zoom=4)\n",
    "refresh(None)\n",
    "\n",
    "graph = widgets.Output()\n",
    "upd_graph('00', '000', *year_selector.value)\n",
    "\n",
    "widgets.AppLayout(left_sidebar=controls,\n",
    "                center=map_, \n",
    "                right_sidebar=graph)"
   ]
  }
 ],
 "metadata": {
  "kernelspec": {
   "display_name": "Python 3 (ipykernel)",
   "language": "python",
   "name": "python3"
  },
  "language_info": {
   "codemirror_mode": {
    "name": "ipython",
    "version": 3
   },
   "file_extension": ".py",
   "mimetype": "text/x-python",
   "name": "python",
   "nbconvert_exporter": "python",
   "pygments_lexer": "ipython3",
   "version": "3.9.9"
  }
 },
 "nbformat": 4,
 "nbformat_minor": 5
}
